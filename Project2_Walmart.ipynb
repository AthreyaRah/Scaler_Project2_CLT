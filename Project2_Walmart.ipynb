{
 "cells": [
  {
   "cell_type": "markdown",
   "metadata": {},
   "source": [
    "### Business Problem\n",
    "\n",
    "Here we are intending to analyze the customer purchase behavious against gender and various other factors to help the business make better decisions.\n",
    "Business wants to understand if the spending habits differ between male and female customers: Do women spend more on Black Friday than men? (Assume 50 million customers are male and 50 million are female)."
   ]
  },
  {
   "cell_type": "code",
   "execution_count": 193,
   "metadata": {},
   "outputs": [],
   "source": [
    "#Importing the libraries required\n",
    "\n",
    "import pandas as pd\n",
    "import numpy as np\n",
    "import seaborn as sns\n",
    "import matplotlib.pyplot as plt\n",
    "from scipy.stats import norm"
   ]
  },
  {
   "cell_type": "code",
   "execution_count": 194,
   "metadata": {},
   "outputs": [
    {
     "data": {
      "text/html": [
       "<div>\n",
       "<style scoped>\n",
       "    .dataframe tbody tr th:only-of-type {\n",
       "        vertical-align: middle;\n",
       "    }\n",
       "\n",
       "    .dataframe tbody tr th {\n",
       "        vertical-align: top;\n",
       "    }\n",
       "\n",
       "    .dataframe thead th {\n",
       "        text-align: right;\n",
       "    }\n",
       "</style>\n",
       "<table border=\"1\" class=\"dataframe\">\n",
       "  <thead>\n",
       "    <tr style=\"text-align: right;\">\n",
       "      <th></th>\n",
       "      <th>User_ID</th>\n",
       "      <th>Product_ID</th>\n",
       "      <th>Gender</th>\n",
       "      <th>Age</th>\n",
       "      <th>Occupation</th>\n",
       "      <th>City_Category</th>\n",
       "      <th>Stay_In_Current_City_Years</th>\n",
       "      <th>Marital_Status</th>\n",
       "      <th>Product_Category</th>\n",
       "      <th>Purchase</th>\n",
       "    </tr>\n",
       "  </thead>\n",
       "  <tbody>\n",
       "    <tr>\n",
       "      <th>0</th>\n",
       "      <td>1000001</td>\n",
       "      <td>P00069042</td>\n",
       "      <td>F</td>\n",
       "      <td>0-17</td>\n",
       "      <td>10</td>\n",
       "      <td>A</td>\n",
       "      <td>2</td>\n",
       "      <td>0</td>\n",
       "      <td>3</td>\n",
       "      <td>8370</td>\n",
       "    </tr>\n",
       "    <tr>\n",
       "      <th>1</th>\n",
       "      <td>1000001</td>\n",
       "      <td>P00248942</td>\n",
       "      <td>F</td>\n",
       "      <td>0-17</td>\n",
       "      <td>10</td>\n",
       "      <td>A</td>\n",
       "      <td>2</td>\n",
       "      <td>0</td>\n",
       "      <td>1</td>\n",
       "      <td>15200</td>\n",
       "    </tr>\n",
       "    <tr>\n",
       "      <th>2</th>\n",
       "      <td>1000001</td>\n",
       "      <td>P00087842</td>\n",
       "      <td>F</td>\n",
       "      <td>0-17</td>\n",
       "      <td>10</td>\n",
       "      <td>A</td>\n",
       "      <td>2</td>\n",
       "      <td>0</td>\n",
       "      <td>12</td>\n",
       "      <td>1422</td>\n",
       "    </tr>\n",
       "    <tr>\n",
       "      <th>3</th>\n",
       "      <td>1000001</td>\n",
       "      <td>P00085442</td>\n",
       "      <td>F</td>\n",
       "      <td>0-17</td>\n",
       "      <td>10</td>\n",
       "      <td>A</td>\n",
       "      <td>2</td>\n",
       "      <td>0</td>\n",
       "      <td>12</td>\n",
       "      <td>1057</td>\n",
       "    </tr>\n",
       "    <tr>\n",
       "      <th>4</th>\n",
       "      <td>1000002</td>\n",
       "      <td>P00285442</td>\n",
       "      <td>M</td>\n",
       "      <td>55+</td>\n",
       "      <td>16</td>\n",
       "      <td>C</td>\n",
       "      <td>4+</td>\n",
       "      <td>0</td>\n",
       "      <td>8</td>\n",
       "      <td>7969</td>\n",
       "    </tr>\n",
       "  </tbody>\n",
       "</table>\n",
       "</div>"
      ],
      "text/plain": [
       "   User_ID Product_ID Gender   Age  Occupation City_Category  \\\n",
       "0  1000001  P00069042      F  0-17          10             A   \n",
       "1  1000001  P00248942      F  0-17          10             A   \n",
       "2  1000001  P00087842      F  0-17          10             A   \n",
       "3  1000001  P00085442      F  0-17          10             A   \n",
       "4  1000002  P00285442      M   55+          16             C   \n",
       "\n",
       "  Stay_In_Current_City_Years  Marital_Status  Product_Category  Purchase  \n",
       "0                          2               0                 3      8370  \n",
       "1                          2               0                 1     15200  \n",
       "2                          2               0                12      1422  \n",
       "3                          2               0                12      1057  \n",
       "4                         4+               0                 8      7969  "
      ]
     },
     "execution_count": 194,
     "metadata": {},
     "output_type": "execute_result"
    }
   ],
   "source": [
    "#Loading the dataset fromt he csv file shared\n",
    "\n",
    "data = pd.read_csv('walmart_data.csv')\n",
    "data.head()"
   ]
  },
  {
   "cell_type": "code",
   "execution_count": 195,
   "metadata": {},
   "outputs": [
    {
     "name": "stdout",
     "output_type": "stream",
     "text": [
      "<class 'pandas.core.frame.DataFrame'>\n",
      "RangeIndex: 550068 entries, 0 to 550067\n",
      "Data columns (total 10 columns):\n",
      " #   Column                      Non-Null Count   Dtype \n",
      "---  ------                      --------------   ----- \n",
      " 0   User_ID                     550068 non-null  int64 \n",
      " 1   Product_ID                  550068 non-null  object\n",
      " 2   Gender                      550068 non-null  object\n",
      " 3   Age                         550068 non-null  object\n",
      " 4   Occupation                  550068 non-null  int64 \n",
      " 5   City_Category               550068 non-null  object\n",
      " 6   Stay_In_Current_City_Years  550068 non-null  object\n",
      " 7   Marital_Status              550068 non-null  int64 \n",
      " 8   Product_Category            550068 non-null  int64 \n",
      " 9   Purchase                    550068 non-null  int64 \n",
      "dtypes: int64(5), object(5)\n",
      "memory usage: 42.0+ MB\n"
     ]
    }
   ],
   "source": [
    "#We see that the dataframe is loaded and the first 5 rows of data are displayed here using the head() method\n",
    "#Getting some insights on the data loaded\n",
    "\n",
    "data.info()"
   ]
  },
  {
   "cell_type": "markdown",
   "metadata": {},
   "source": [
    "From the above output we see that \n",
    "* There are a total of 550068 rows and there are no null values in the dataset.\n",
    "* There are total of 10 different columns.\n",
    "* Also, the data types of the columns are correct\n"
   ]
  },
  {
   "cell_type": "code",
   "execution_count": 196,
   "metadata": {},
   "outputs": [
    {
     "data": {
      "text/plain": [
       "User_ID                       False\n",
       "Product_ID                    False\n",
       "Gender                        False\n",
       "Age                           False\n",
       "Occupation                    False\n",
       "City_Category                 False\n",
       "Stay_In_Current_City_Years    False\n",
       "Marital_Status                False\n",
       "Product_Category              False\n",
       "Purchase                      False\n",
       "dtype: bool"
      ]
     },
     "execution_count": 196,
     "metadata": {},
     "output_type": "execute_result"
    }
   ],
   "source": [
    "data.isnull().all()"
   ]
  },
  {
   "cell_type": "markdown",
   "metadata": {},
   "source": [
    "We can see that there are no null values in the dataset sample"
   ]
  },
  {
   "cell_type": "code",
   "execution_count": 197,
   "metadata": {},
   "outputs": [
    {
     "name": "stdout",
     "output_type": "stream",
     "text": [
      "<class 'pandas.core.frame.DataFrame'>\n",
      "RangeIndex: 550068 entries, 0 to 550067\n",
      "Data columns (total 10 columns):\n",
      " #   Column                      Non-Null Count   Dtype \n",
      "---  ------                      --------------   ----- \n",
      " 0   User_ID                     550068 non-null  int64 \n",
      " 1   Product_ID                  550068 non-null  object\n",
      " 2   Gender                      550068 non-null  object\n",
      " 3   Age                         550068 non-null  object\n",
      " 4   Occupation                  550068 non-null  object\n",
      " 5   City_Category               550068 non-null  object\n",
      " 6   Stay_In_Current_City_Years  550068 non-null  object\n",
      " 7   Marital_Status              550068 non-null  object\n",
      " 8   Product_Category            550068 non-null  object\n",
      " 9   Purchase                    550068 non-null  int64 \n",
      "dtypes: int64(2), object(8)\n",
      "memory usage: 42.0+ MB\n"
     ]
    }
   ],
   "source": [
    "#Changing the datatype of Occupation, Martial Status and Product Category to object as these are categorical variables\n",
    "\n",
    "data[[\"Occupation\",\"Marital_Status\",\"Product_Category\"]] = data[[\"Occupation\",\"Marital_Status\",\"Product_Category\"]].astype(\"object\")\n",
    "data.info()"
   ]
  },
  {
   "cell_type": "code",
   "execution_count": 198,
   "metadata": {},
   "outputs": [
    {
     "data": {
      "text/html": [
       "<div>\n",
       "<style scoped>\n",
       "    .dataframe tbody tr th:only-of-type {\n",
       "        vertical-align: middle;\n",
       "    }\n",
       "\n",
       "    .dataframe tbody tr th {\n",
       "        vertical-align: top;\n",
       "    }\n",
       "\n",
       "    .dataframe thead th {\n",
       "        text-align: right;\n",
       "    }\n",
       "</style>\n",
       "<table border=\"1\" class=\"dataframe\">\n",
       "  <thead>\n",
       "    <tr style=\"text-align: right;\">\n",
       "      <th></th>\n",
       "      <th>User_ID</th>\n",
       "      <th>Purchase</th>\n",
       "    </tr>\n",
       "  </thead>\n",
       "  <tbody>\n",
       "    <tr>\n",
       "      <th>count</th>\n",
       "      <td>5.500680e+05</td>\n",
       "      <td>550068.000000</td>\n",
       "    </tr>\n",
       "    <tr>\n",
       "      <th>mean</th>\n",
       "      <td>1.003029e+06</td>\n",
       "      <td>9263.968713</td>\n",
       "    </tr>\n",
       "    <tr>\n",
       "      <th>std</th>\n",
       "      <td>1.727592e+03</td>\n",
       "      <td>5023.065394</td>\n",
       "    </tr>\n",
       "    <tr>\n",
       "      <th>min</th>\n",
       "      <td>1.000001e+06</td>\n",
       "      <td>12.000000</td>\n",
       "    </tr>\n",
       "    <tr>\n",
       "      <th>25%</th>\n",
       "      <td>1.001516e+06</td>\n",
       "      <td>5823.000000</td>\n",
       "    </tr>\n",
       "    <tr>\n",
       "      <th>50%</th>\n",
       "      <td>1.003077e+06</td>\n",
       "      <td>8047.000000</td>\n",
       "    </tr>\n",
       "    <tr>\n",
       "      <th>75%</th>\n",
       "      <td>1.004478e+06</td>\n",
       "      <td>12054.000000</td>\n",
       "    </tr>\n",
       "    <tr>\n",
       "      <th>max</th>\n",
       "      <td>1.006040e+06</td>\n",
       "      <td>23961.000000</td>\n",
       "    </tr>\n",
       "  </tbody>\n",
       "</table>\n",
       "</div>"
      ],
      "text/plain": [
       "            User_ID       Purchase\n",
       "count  5.500680e+05  550068.000000\n",
       "mean   1.003029e+06    9263.968713\n",
       "std    1.727592e+03    5023.065394\n",
       "min    1.000001e+06      12.000000\n",
       "25%    1.001516e+06    5823.000000\n",
       "50%    1.003077e+06    8047.000000\n",
       "75%    1.004478e+06   12054.000000\n",
       "max    1.006040e+06   23961.000000"
      ]
     },
     "execution_count": 198,
     "metadata": {},
     "output_type": "execute_result"
    }
   ],
   "source": [
    "#Further describing the dataset, we can check if there are any outliers.\n",
    "desc_info = data.describe()\n",
    "desc_info"
   ]
  },
  {
   "cell_type": "markdown",
   "metadata": {},
   "source": [
    "In the baove output only the purchase column is of our interese as the other columns, though integer type they are encoded (Categorically).\n",
    "Hence looking at the Purchase column only we can infer that,\n",
    "\n",
    "* Average Purchase Value of all the customers in the sample shared is 9263.96 dollars\n",
    "* Minimum Purchase Value is 12.00 dollars, while\n",
    "* Maximum Purchase Value is 23961.00 dollars."
   ]
  },
  {
   "cell_type": "code",
   "execution_count": 199,
   "metadata": {},
   "outputs": [
    {
     "data": {
      "text/html": [
       "<div>\n",
       "<style scoped>\n",
       "    .dataframe tbody tr th:only-of-type {\n",
       "        vertical-align: middle;\n",
       "    }\n",
       "\n",
       "    .dataframe tbody tr th {\n",
       "        vertical-align: top;\n",
       "    }\n",
       "\n",
       "    .dataframe thead th {\n",
       "        text-align: right;\n",
       "    }\n",
       "</style>\n",
       "<table border=\"1\" class=\"dataframe\">\n",
       "  <thead>\n",
       "    <tr style=\"text-align: right;\">\n",
       "      <th></th>\n",
       "      <th>Product_ID</th>\n",
       "      <th>Gender</th>\n",
       "      <th>Age</th>\n",
       "      <th>Occupation</th>\n",
       "      <th>City_Category</th>\n",
       "      <th>Stay_In_Current_City_Years</th>\n",
       "      <th>Marital_Status</th>\n",
       "      <th>Product_Category</th>\n",
       "    </tr>\n",
       "  </thead>\n",
       "  <tbody>\n",
       "    <tr>\n",
       "      <th>count</th>\n",
       "      <td>550068</td>\n",
       "      <td>550068</td>\n",
       "      <td>550068</td>\n",
       "      <td>550068</td>\n",
       "      <td>550068</td>\n",
       "      <td>550068</td>\n",
       "      <td>550068</td>\n",
       "      <td>550068</td>\n",
       "    </tr>\n",
       "    <tr>\n",
       "      <th>unique</th>\n",
       "      <td>3631</td>\n",
       "      <td>2</td>\n",
       "      <td>7</td>\n",
       "      <td>21</td>\n",
       "      <td>3</td>\n",
       "      <td>5</td>\n",
       "      <td>2</td>\n",
       "      <td>20</td>\n",
       "    </tr>\n",
       "    <tr>\n",
       "      <th>top</th>\n",
       "      <td>P00265242</td>\n",
       "      <td>M</td>\n",
       "      <td>26-35</td>\n",
       "      <td>4</td>\n",
       "      <td>B</td>\n",
       "      <td>1</td>\n",
       "      <td>0</td>\n",
       "      <td>5</td>\n",
       "    </tr>\n",
       "    <tr>\n",
       "      <th>freq</th>\n",
       "      <td>1880</td>\n",
       "      <td>414259</td>\n",
       "      <td>219587</td>\n",
       "      <td>72308</td>\n",
       "      <td>231173</td>\n",
       "      <td>193821</td>\n",
       "      <td>324731</td>\n",
       "      <td>150933</td>\n",
       "    </tr>\n",
       "  </tbody>\n",
       "</table>\n",
       "</div>"
      ],
      "text/plain": [
       "       Product_ID  Gender     Age  Occupation City_Category  \\\n",
       "count      550068  550068  550068      550068        550068   \n",
       "unique       3631       2       7          21             3   \n",
       "top     P00265242       M   26-35           4             B   \n",
       "freq         1880  414259  219587       72308        231173   \n",
       "\n",
       "       Stay_In_Current_City_Years  Marital_Status  Product_Category  \n",
       "count                      550068          550068            550068  \n",
       "unique                          5               2                20  \n",
       "top                             1               0                 5  \n",
       "freq                       193821          324731            150933  "
      ]
     },
     "execution_count": 199,
     "metadata": {},
     "output_type": "execute_result"
    }
   ],
   "source": [
    "#Looking at the categorical variables in our dataset\n",
    "desc_obj = data.describe(include=object)\n",
    "desc_obj"
   ]
  },
  {
   "cell_type": "markdown",
   "metadata": {},
   "source": [
    "From the above output we can infer that,\n",
    "* There are 3631 different products that are purchased by different customers, and the top selling product is P00265242\n",
    "* There are 7 different age bins in which the customres are grouped, where most of the orders are placed by the customers in the age group of 26-35 years\n",
    "* The dataset contains customer details from 3 different cities where most of the orders have come from city B\n",
    "* There are 21 different categories or occupations to which the customers belong"
   ]
  },
  {
   "cell_type": "code",
   "execution_count": 200,
   "metadata": {},
   "outputs": [
    {
     "data": {
      "text/plain": [
       "M    414259\n",
       "F    135809\n",
       "Name: Gender, dtype: int64"
      ]
     },
     "execution_count": 200,
     "metadata": {},
     "output_type": "execute_result"
    }
   ],
   "source": [
    "#Now getting an overview of the male and female customers ordered on Walmart\n",
    "\n",
    "# male_female_split = round((100*data[\"Gender\"].value_counts()/len(data)),2)\n",
    "male_female_split = data[\"Gender\"].value_counts()\n",
    "male_female_split"
   ]
  },
  {
   "cell_type": "code",
   "execution_count": 201,
   "metadata": {},
   "outputs": [
    {
     "data": {
      "image/png": "[encoded data removed]",
      "text/plain": [
       "<Figure size 432x288 with 1 Axes>"
      ]
     },
     "metadata": {},
     "output_type": "display_data"
    }
   ],
   "source": [
    "plt.pie(x=male_female_split,explode=[0.1,0.0],labels=male_female_split.index,autopct='%1.1f%%',textprops={'color':\"w\",'fontsize': 14})\n",
    "plt.show()"
   ]
  },
  {
   "cell_type": "markdown",
   "metadata": {},
   "source": [
    "We can see that,\n",
    "* 75.31% of the orders in the sample dataset shared are placed by Males\n",
    "* 24.69% of the orders in the sample dataset shared are placed by Females"
   ]
  },
  {
   "cell_type": "code",
   "execution_count": 202,
   "metadata": {},
   "outputs": [
    {
     "data": {
      "image/png": "[encoded data removed]",
      "text/plain": [
       "<Figure size 432x288 with 1 Axes>"
      ]
     },
     "metadata": {},
     "output_type": "display_data"
    }
   ],
   "source": [
    "age_disb = data[\"Age\"].value_counts()\n",
    "plt.pie(x=age_disb,labels=age_disb.index,autopct='%1.1f%%',textprops={'color':\"w\",'fontsize': 10},explode=[0.1,0.1,0.1,0.1,0.1,0.1,0.1])\n",
    "plt.show()"
   ]
  },
  {
   "cell_type": "markdown",
   "metadata": {},
   "source": [
    "We can see from the piechart above that most of the orders 39.9% is placed by custoimers aged between 26 and 35 years followed by 36-45 years and 18-25 years with 20% and 18.1% respectively."
   ]
  },
  {
   "cell_type": "code",
   "execution_count": 203,
   "metadata": {},
   "outputs": [
    {
     "data": {
      "image/png": "[encoded data removed]",
      "text/plain": [
       "<Figure size 432x288 with 1 Axes>"
      ]
     },
     "metadata": {},
     "output_type": "display_data"
    }
   ],
   "source": [
    "#Similarly analysing for the other ategorical variables to understand the distribution / share in the orders placed.\n",
    "city_disb = data[\"City_Category\"].value_counts()\n",
    "plt.pie(x=city_disb,labels=city_disb.index,autopct='%1.1f%%',textprops={'color':\"w\",'fontsize': 10},explode = [0.1,0.1,0.1])\n",
    "plt.show()"
   ]
  },
  {
   "cell_type": "markdown",
   "metadata": {},
   "source": [
    "From the above chart we can see that most of the orders come from City B followed by City C and City A with a share of 42%, 31.1% and 26.9% respectively."
   ]
  },
  {
   "cell_type": "code",
   "execution_count": 204,
   "metadata": {},
   "outputs": [
    {
     "data": {
      "image/png": "[encoded data removed]",
      "text/plain": [
       "<Figure size 432x288 with 1 Axes>"
      ]
     },
     "metadata": {},
     "output_type": "display_data"
    }
   ],
   "source": [
    "martial_status_disb = data[\"Marital_Status\"].value_counts()\n",
    "plt.pie(x=martial_status_disb,labels=martial_status_disb.index,autopct='%1.1f%%',textprops={'color':\"w\",'fontsize': 10},explode = [0.1,0.1])\n",
    "plt.show()"
   ]
  },
  {
   "cell_type": "markdown",
   "metadata": {},
   "source": [
    "From the above plot we can see that 59% of the orders are placed by single customers and 41% are place by married customers"
   ]
  },
  {
   "cell_type": "markdown",
   "metadata": {},
   "source": [
    "## Univariate Analysis"
   ]
  },
  {
   "cell_type": "markdown",
   "metadata": {},
   "source": [
    "### Further performing the univariate analysis on different categorical variables\n",
    "- Product_ID\n",
    "- Gender\n",
    "- Age\n",
    "- Occupation\n",
    "- City_Category\n",
    "- Stay_In_Current_City_Years\n",
    "- Marital_Status\n",
    "- Product_Category"
   ]
  },
  {
   "cell_type": "code",
   "execution_count": 205,
   "metadata": {},
   "outputs": [
    {
     "data": {
      "text/plain": [
       "<AxesSubplot:xlabel='Gender', ylabel='count'>"
      ]
     },
     "execution_count": 205,
     "metadata": {},
     "output_type": "execute_result"
    },
    {
     "data": {
      "image/png": "[encoded data removed]",
      "text/plain": [
       "<Figure size 432x288 with 1 Axes>"
      ]
     },
     "metadata": {
      "needs_background": "light"
     },
     "output_type": "display_data"
    }
   ],
   "source": [
    "df = data\n",
    "sns.countplot(data=df, x='Gender')"
   ]
  },
  {
   "cell_type": "code",
   "execution_count": 206,
   "metadata": {},
   "outputs": [
    {
     "data": {
      "text/plain": [
       "<AxesSubplot:xlabel='Age', ylabel='count'>"
      ]
     },
     "execution_count": 206,
     "metadata": {},
     "output_type": "execute_result"
    },
    {
     "data": {
      "image/png": "[encoded data removed]",
      "text/plain": [
       "<Figure size 432x288 with 1 Axes>"
      ]
     },
     "metadata": {
      "needs_background": "light"
     },
     "output_type": "display_data"
    }
   ],
   "source": [
    "sns.countplot(data=df, x='Age')"
   ]
  },
  {
   "cell_type": "code",
   "execution_count": 207,
   "metadata": {},
   "outputs": [
    {
     "data": {
      "text/plain": [
       "<AxesSubplot:xlabel='Occupation', ylabel='count'>"
      ]
     },
     "execution_count": 207,
     "metadata": {},
     "output_type": "execute_result"
    },
    {
     "data": {
      "image/png": "[encoded data removed]",
      "text/plain": [
       "<Figure size 432x288 with 1 Axes>"
      ]
     },
     "metadata": {
      "needs_background": "light"
     },
     "output_type": "display_data"
    }
   ],
   "source": [
    "sns.countplot(data=df, x='Occupation')"
   ]
  },
  {
   "cell_type": "code",
   "execution_count": 208,
   "metadata": {},
   "outputs": [
    {
     "data": {
      "text/plain": [
       "<AxesSubplot:xlabel='City_Category', ylabel='count'>"
      ]
     },
     "execution_count": 208,
     "metadata": {},
     "output_type": "execute_result"
    },
    {
     "data": {
      "image/png": "[encoded data removed]",
      "text/plain": [
       "<Figure size 432x288 with 1 Axes>"
      ]
     },
     "metadata": {
      "needs_background": "light"
     },
     "output_type": "display_data"
    }
   ],
   "source": [
    "sns.countplot(data=df, x='City_Category')"
   ]
  },
  {
   "cell_type": "code",
   "execution_count": 209,
   "metadata": {},
   "outputs": [
    {
     "data": {
      "text/plain": [
       "<AxesSubplot:xlabel='Marital_Status', ylabel='count'>"
      ]
     },
     "execution_count": 209,
     "metadata": {},
     "output_type": "execute_result"
    },
    {
     "data": {
      "image/png": "[encoded data removed]",
      "text/plain": [
       "<Figure size 432x288 with 1 Axes>"
      ]
     },
     "metadata": {
      "needs_background": "light"
     },
     "output_type": "display_data"
    }
   ],
   "source": [
    "sns.countplot(data=df, x='Marital_Status')"
   ]
  },
  {
   "cell_type": "code",
   "execution_count": 210,
   "metadata": {},
   "outputs": [
    {
     "data": {
      "text/plain": [
       "<AxesSubplot:xlabel='Product_Category', ylabel='count'>"
      ]
     },
     "execution_count": 210,
     "metadata": {},
     "output_type": "execute_result"
    },
    {
     "data": {
      "image/png": "[encoded data removed]",
      "text/plain": [
       "<Figure size 432x288 with 1 Axes>"
      ]
     },
     "metadata": {
      "needs_background": "light"
     },
     "output_type": "display_data"
    }
   ],
   "source": [
    "sns.countplot(data=df, x='Product_Category')"
   ]
  },
  {
   "cell_type": "code",
   "execution_count": 211,
   "metadata": {},
   "outputs": [
    {
     "data": {
      "text/plain": [
       "<AxesSubplot:xlabel='Stay_In_Current_City_Years', ylabel='count'>"
      ]
     },
     "execution_count": 211,
     "metadata": {},
     "output_type": "execute_result"
    },
    {
     "data": {
      "image/png": "[encoded data removed]",
      "text/plain": [
       "<Figure size 432x288 with 1 Axes>"
      ]
     },
     "metadata": {
      "needs_background": "light"
     },
     "output_type": "display_data"
    }
   ],
   "source": [
    "sns.countplot(data=df, x='Stay_In_Current_City_Years')"
   ]
  },
  {
   "cell_type": "markdown",
   "metadata": {},
   "source": [
    "From the above plots, we cna infer the following:\n",
    "\n",
    "- More purchases are made by Males compared to females\n",
    "- Most purchases are made by customers in the age bracket 18 - 45 years of which 26-35 year old top the list\n",
    "- Occupation Category 0, 4 and 7 tend to make the most purchases from the sample shared. Since we don't have a visibility on the type of products and the correlation between occupation and the type of products purchased, further investigation can help identify if there is a trend followed.\n",
    "- Most of the purchases are made from City B\n",
    "- Most of the purchases are made by single / unmarried customers\n",
    "- Product from Category 1,5,8 and 11 are the most ordered.\n",
    "- Most of the orders are made by customers who have been staying in the current city for a year or less. THis can help cater to the customers who move frequently."
   ]
  },
  {
   "cell_type": "markdown",
   "metadata": {},
   "source": [
    "## Bivariate Analysis of the Categorical Variables against the Purchase Value"
   ]
  },
  {
   "cell_type": "code",
   "execution_count": 212,
   "metadata": {},
   "outputs": [
    {
     "data": {
      "text/plain": [
       "<AxesSubplot:xlabel='Gender', ylabel='Purchase'>"
      ]
     },
     "execution_count": 212,
     "metadata": {},
     "output_type": "execute_result"
    },
    {
     "data": {
      "image/png": "[encoded data removed]",
      "text/plain": [
       "<Figure size 432x288 with 1 Axes>"
      ]
     },
     "metadata": {
      "needs_background": "light"
     },
     "output_type": "display_data"
    }
   ],
   "source": [
    "sns.boxplot(x = \"Gender\",y = \"Purchase\",data = data)"
   ]
  },
  {
   "cell_type": "markdown",
   "metadata": {},
   "source": [
    "#### From the above plot \n",
    "* We can see that there are outliers in the purchase value of Males and females and also the median purchase value of males and females are almost same.\n",
    "* We can also see that the maximum purchase value of males is more than that of females."
   ]
  },
  {
   "cell_type": "code",
   "execution_count": 213,
   "metadata": {},
   "outputs": [
    {
     "data": {
      "text/plain": [
       "<AxesSubplot:xlabel='Age', ylabel='Purchase'>"
      ]
     },
     "execution_count": 213,
     "metadata": {},
     "output_type": "execute_result"
    },
    {
     "data": {
      "image/png": "[encoded data removed]",
      "text/plain": [
       "<Figure size 432x288 with 1 Axes>"
      ]
     },
     "metadata": {
      "needs_background": "light"
     },
     "output_type": "display_data"
    }
   ],
   "source": [
    "sns.boxplot(data = df, x=\"Age\",y=\"Purchase\")"
   ]
  },
  {
   "cell_type": "markdown",
   "metadata": {},
   "source": [
    "From the above plot of age vs purchase value we can see that the median purchase value across different age groups are almost same between 5-10k"
   ]
  },
  {
   "cell_type": "code",
   "execution_count": 214,
   "metadata": {},
   "outputs": [
    {
     "data": {
      "text/plain": [
       "<AxesSubplot:xlabel='Occupation', ylabel='Purchase'>"
      ]
     },
     "execution_count": 214,
     "metadata": {},
     "output_type": "execute_result"
    },
    {
     "data": {
      "image/png": "[encoded data removed]",
      "text/plain": [
       "<Figure size 432x288 with 1 Axes>"
      ]
     },
     "metadata": {
      "needs_background": "light"
     },
     "output_type": "display_data"
    }
   ],
   "source": [
    "sns.boxplot(data = df, x=\"Occupation\",y=\"Purchase\")"
   ]
  },
  {
   "cell_type": "markdown",
   "metadata": {},
   "source": [
    "From the above plot of occupation vs purchase value we can see that the median purchase value across different occupations do not vary much."
   ]
  },
  {
   "cell_type": "code",
   "execution_count": 215,
   "metadata": {},
   "outputs": [
    {
     "data": {
      "text/plain": [
       "<AxesSubplot:xlabel='City_Category', ylabel='Purchase'>"
      ]
     },
     "execution_count": 215,
     "metadata": {},
     "output_type": "execute_result"
    },
    {
     "data": {
      "image/png": "[encoded data removed]",
      "text/plain": [
       "<Figure size 432x288 with 1 Axes>"
      ]
     },
     "metadata": {
      "needs_background": "light"
     },
     "output_type": "display_data"
    }
   ],
   "source": [
    "sns.boxplot(data = df, x=\"City_Category\",y=\"Purchase\")"
   ]
  },
  {
   "cell_type": "markdown",
   "metadata": {},
   "source": [
    "From the above plot of city category vs purchase value we can see that the median purchase value across different cities do not vary much. However, the purchase value from City C tend to be more than that from the other two."
   ]
  },
  {
   "cell_type": "code",
   "execution_count": 216,
   "metadata": {},
   "outputs": [
    {
     "data": {
      "text/plain": [
       "<AxesSubplot:xlabel='Marital_Status', ylabel='Purchase'>"
      ]
     },
     "execution_count": 216,
     "metadata": {},
     "output_type": "execute_result"
    },
    {
     "data": {
      "image/png": "[encoded data removed]",
      "text/plain": [
       "<Figure size 432x288 with 1 Axes>"
      ]
     },
     "metadata": {
      "needs_background": "light"
     },
     "output_type": "display_data"
    }
   ],
   "source": [
    "sns.boxplot(data = df, x=\"Marital_Status\",y=\"Purchase\")"
   ]
  },
  {
   "cell_type": "code",
   "execution_count": 217,
   "metadata": {},
   "outputs": [
    {
     "data": {
      "text/plain": [
       "<AxesSubplot:xlabel='Product_Category', ylabel='Purchase'>"
      ]
     },
     "execution_count": 217,
     "metadata": {},
     "output_type": "execute_result"
    },
    {
     "data": {
      "image/png": "[encoded data removed]",
      "text/plain": [
       "<Figure size 432x288 with 1 Axes>"
      ]
     },
     "metadata": {
      "needs_background": "light"
     },
     "output_type": "display_data"
    }
   ],
   "source": [
    "sns.boxplot(data = df, x=\"Product_Category\",y=\"Purchase\")"
   ]
  },
  {
   "cell_type": "markdown",
   "metadata": {},
   "source": [
    "From the above plot we can see that the median purchase value of product categories 6,7,9,10,14,15 and 16 are more while the product categories 19 and 20 have the lowest."
   ]
  },
  {
   "cell_type": "markdown",
   "metadata": {},
   "source": [
    "## Multivariate Analysis"
   ]
  },
  {
   "cell_type": "code",
   "execution_count": 218,
   "metadata": {},
   "outputs": [
    {
     "data": {
      "image/png": "[encoded data removed]",
      "text/plain": [
       "<Figure size 1440x576 with 4 Axes>"
      ]
     },
     "metadata": {
      "needs_background": "light"
     },
     "output_type": "display_data"
    }
   ],
   "source": [
    "figure, axes = plt.subplots(nrows = 2, ncols = 2,figsize = (20,8))\n",
    "\n",
    "sns.boxplot(data = df, x=\"Gender\", y=\"Purchase\", hue=\"Age\",ax=axes[0,0])\n",
    "sns.boxplot(data = df, x=\"Gender\", y=\"Purchase\", hue=\"Marital_Status\",ax=axes[0,1])\n",
    "sns.boxplot(data = df, x=\"Gender\", y=\"Purchase\", hue=\"City_Category\",ax=axes[1,0])\n",
    "sns.boxplot(data = df, x=\"Gender\", y=\"Purchase\", hue=\"Stay_In_Current_City_Years\",ax=axes[1,1])\n",
    "plt.show()"
   ]
  },
  {
   "cell_type": "code",
   "execution_count": 219,
   "metadata": {},
   "outputs": [],
   "source": [
    "#Since one user can place may orders, checking number of unique values\n",
    "\n",
    "unique_users = df[\"User_ID\"].nunique()"
   ]
  },
  {
   "cell_type": "markdown",
   "metadata": {},
   "source": [
    "We can see that there are only 5891 unique customers / users in the sample dataset shared. Thus we need to group the purchase value of each customer/user accordingly."
   ]
  },
  {
   "cell_type": "code",
   "execution_count": 220,
   "metadata": {},
   "outputs": [
    {
     "data": {
      "text/html": [
       "<div>\n",
       "<style scoped>\n",
       "    .dataframe tbody tr th:only-of-type {\n",
       "        vertical-align: middle;\n",
       "    }\n",
       "\n",
       "    .dataframe tbody tr th {\n",
       "        vertical-align: top;\n",
       "    }\n",
       "\n",
       "    .dataframe thead th {\n",
       "        text-align: right;\n",
       "    }\n",
       "</style>\n",
       "<table border=\"1\" class=\"dataframe\">\n",
       "  <thead>\n",
       "    <tr style=\"text-align: right;\">\n",
       "      <th></th>\n",
       "      <th>User_ID</th>\n",
       "      <th>Gender</th>\n",
       "      <th>Purchase</th>\n",
       "    </tr>\n",
       "  </thead>\n",
       "  <tbody>\n",
       "    <tr>\n",
       "      <th>0</th>\n",
       "      <td>1000001</td>\n",
       "      <td>F</td>\n",
       "      <td>334093</td>\n",
       "    </tr>\n",
       "    <tr>\n",
       "      <th>1</th>\n",
       "      <td>1000002</td>\n",
       "      <td>M</td>\n",
       "      <td>810472</td>\n",
       "    </tr>\n",
       "    <tr>\n",
       "      <th>2</th>\n",
       "      <td>1000003</td>\n",
       "      <td>M</td>\n",
       "      <td>341635</td>\n",
       "    </tr>\n",
       "    <tr>\n",
       "      <th>3</th>\n",
       "      <td>1000004</td>\n",
       "      <td>M</td>\n",
       "      <td>206468</td>\n",
       "    </tr>\n",
       "    <tr>\n",
       "      <th>4</th>\n",
       "      <td>1000005</td>\n",
       "      <td>M</td>\n",
       "      <td>821001</td>\n",
       "    </tr>\n",
       "  </tbody>\n",
       "</table>\n",
       "</div>"
      ],
      "text/plain": [
       "   User_ID Gender  Purchase\n",
       "0  1000001      F    334093\n",
       "1  1000002      M    810472\n",
       "2  1000003      M    341635\n",
       "3  1000004      M    206468\n",
       "4  1000005      M    821001"
      ]
     },
     "execution_count": 220,
     "metadata": {},
     "output_type": "execute_result"
    }
   ],
   "source": [
    "grp_user_purchases = df.groupby([\"User_ID\",\"Gender\"])[\"Purchase\"].sum()\n",
    "grp_user_purchases = grp_user_purchases.reset_index()\n",
    "\n",
    "grp_user_purchases.head()"
   ]
  },
  {
   "cell_type": "code",
   "execution_count": 221,
   "metadata": {},
   "outputs": [
    {
     "data": {
      "text/plain": [
       "M    4225\n",
       "F    1666\n",
       "Name: Gender, dtype: int64"
      ]
     },
     "execution_count": 221,
     "metadata": {},
     "output_type": "execute_result"
    }
   ],
   "source": [
    "grp_user_purchases[\"Gender\"].value_counts()"
   ]
  },
  {
   "cell_type": "markdown",
   "metadata": {},
   "source": [
    "We can see that there are 4225 unique Male Users and 1666 Unique Female Users in the sample shared"
   ]
  },
  {
   "cell_type": "code",
   "execution_count": 222,
   "metadata": {},
   "outputs": [
    {
     "data": {
      "image/png": "[encoded data removed]",
      "text/plain": [
       "<Figure size 432x288 with 1 Axes>"
      ]
     },
     "metadata": {
      "needs_background": "light"
     },
     "output_type": "display_data"
    }
   ],
   "source": [
    "sns.histplot(data = grp_user_purchases, x = \"Purchase\" ,hue=\"Gender\", kde=True, bins = 1000)\n",
    "plt.show()"
   ]
  },
  {
   "cell_type": "markdown",
   "metadata": {},
   "source": [
    "It can be seen that on an average male customer tend to spend more than a female customer"
   ]
  },
  {
   "cell_type": "code",
   "execution_count": 223,
   "metadata": {},
   "outputs": [
    {
     "name": "stdout",
     "output_type": "stream",
     "text": [
      "The sample average of male and female are 925344.4 and 712024.39 respectively\n"
     ]
    }
   ],
   "source": [
    "#Further from the grouping, checking whats the sample average of male and female customers\n",
    "\n",
    "male_avg = round(grp_user_purchases[grp_user_purchases[\"Gender\"]==\"M\"][\"Purchase\"].mean(),2)\n",
    "female_avg = round(grp_user_purchases[grp_user_purchases[\"Gender\"]==\"F\"][\"Purchase\"].mean(),2)\n",
    "\n",
    "print(f\"The sample average of male and female are {male_avg} and {female_avg} respectively\")"
   ]
  },
  {
   "cell_type": "code",
   "execution_count": 224,
   "metadata": {},
   "outputs": [],
   "source": [
    "male_users_df = grp_user_purchases[grp_user_purchases[\"Gender\"]==\"M\"]\n",
    "female_users_df = grp_user_purchases[grp_user_purchases[\"Gender\"]==\"F\"]"
   ]
  },
  {
   "cell_type": "code",
   "execution_count": 225,
   "metadata": {},
   "outputs": [
    {
     "data": {
      "text/html": [
       "<div>\n",
       "<style scoped>\n",
       "    .dataframe tbody tr th:only-of-type {\n",
       "        vertical-align: middle;\n",
       "    }\n",
       "\n",
       "    .dataframe tbody tr th {\n",
       "        vertical-align: top;\n",
       "    }\n",
       "\n",
       "    .dataframe thead th {\n",
       "        text-align: right;\n",
       "    }\n",
       "</style>\n",
       "<table border=\"1\" class=\"dataframe\">\n",
       "  <thead>\n",
       "    <tr style=\"text-align: right;\">\n",
       "      <th></th>\n",
       "      <th>User_ID</th>\n",
       "      <th>Gender</th>\n",
       "      <th>Purchase</th>\n",
       "    </tr>\n",
       "  </thead>\n",
       "  <tbody>\n",
       "    <tr>\n",
       "      <th>1</th>\n",
       "      <td>1000002</td>\n",
       "      <td>M</td>\n",
       "      <td>810472</td>\n",
       "    </tr>\n",
       "    <tr>\n",
       "      <th>2</th>\n",
       "      <td>1000003</td>\n",
       "      <td>M</td>\n",
       "      <td>341635</td>\n",
       "    </tr>\n",
       "    <tr>\n",
       "      <th>3</th>\n",
       "      <td>1000004</td>\n",
       "      <td>M</td>\n",
       "      <td>206468</td>\n",
       "    </tr>\n",
       "    <tr>\n",
       "      <th>4</th>\n",
       "      <td>1000005</td>\n",
       "      <td>M</td>\n",
       "      <td>821001</td>\n",
       "    </tr>\n",
       "    <tr>\n",
       "      <th>6</th>\n",
       "      <td>1000007</td>\n",
       "      <td>M</td>\n",
       "      <td>234668</td>\n",
       "    </tr>\n",
       "  </tbody>\n",
       "</table>\n",
       "</div>"
      ],
      "text/plain": [
       "   User_ID Gender  Purchase\n",
       "1  1000002      M    810472\n",
       "2  1000003      M    341635\n",
       "3  1000004      M    206468\n",
       "4  1000005      M    821001\n",
       "6  1000007      M    234668"
      ]
     },
     "execution_count": 225,
     "metadata": {},
     "output_type": "execute_result"
    }
   ],
   "source": [
    "male_users_df.head()"
   ]
  },
  {
   "cell_type": "code",
   "execution_count": 226,
   "metadata": {},
   "outputs": [
    {
     "data": {
      "text/html": [
       "<div>\n",
       "<style scoped>\n",
       "    .dataframe tbody tr th:only-of-type {\n",
       "        vertical-align: middle;\n",
       "    }\n",
       "\n",
       "    .dataframe tbody tr th {\n",
       "        vertical-align: top;\n",
       "    }\n",
       "\n",
       "    .dataframe thead th {\n",
       "        text-align: right;\n",
       "    }\n",
       "</style>\n",
       "<table border=\"1\" class=\"dataframe\">\n",
       "  <thead>\n",
       "    <tr style=\"text-align: right;\">\n",
       "      <th></th>\n",
       "      <th>User_ID</th>\n",
       "      <th>Gender</th>\n",
       "      <th>Purchase</th>\n",
       "    </tr>\n",
       "  </thead>\n",
       "  <tbody>\n",
       "    <tr>\n",
       "      <th>0</th>\n",
       "      <td>1000001</td>\n",
       "      <td>F</td>\n",
       "      <td>334093</td>\n",
       "    </tr>\n",
       "    <tr>\n",
       "      <th>5</th>\n",
       "      <td>1000006</td>\n",
       "      <td>F</td>\n",
       "      <td>379930</td>\n",
       "    </tr>\n",
       "    <tr>\n",
       "      <th>9</th>\n",
       "      <td>1000010</td>\n",
       "      <td>F</td>\n",
       "      <td>2169510</td>\n",
       "    </tr>\n",
       "    <tr>\n",
       "      <th>10</th>\n",
       "      <td>1000011</td>\n",
       "      <td>F</td>\n",
       "      <td>557023</td>\n",
       "    </tr>\n",
       "    <tr>\n",
       "      <th>15</th>\n",
       "      <td>1000016</td>\n",
       "      <td>F</td>\n",
       "      <td>150490</td>\n",
       "    </tr>\n",
       "  </tbody>\n",
       "</table>\n",
       "</div>"
      ],
      "text/plain": [
       "    User_ID Gender  Purchase\n",
       "0   1000001      F    334093\n",
       "5   1000006      F    379930\n",
       "9   1000010      F   2169510\n",
       "10  1000011      F    557023\n",
       "15  1000016      F    150490"
      ]
     },
     "execution_count": 226,
     "metadata": {},
     "output_type": "execute_result"
    }
   ],
   "source": [
    "female_users_df.head()"
   ]
  },
  {
   "cell_type": "markdown",
   "metadata": {},
   "source": [
    "#### Now that we have the sample averages, we use the Central Limit Theorem and Confidence Interval to approximate the population mean.\n",
    "\n",
    "<b> Central Limit Theorem: </b>\n",
    ">>> It states that the sampling distribution of sample means follow Normal / Gaussian Distribution with a Mean approximately same as the population mean and the standard deviation with population sd/root(n) also known as the standard error"
   ]
  },
  {
   "cell_type": "code",
   "execution_count": 227,
   "metadata": {},
   "outputs": [
    {
     "name": "stdout",
     "output_type": "stream",
     "text": [
      "Male Users: 4225 \n",
      " Female Users:  1666\n"
     ]
    }
   ],
   "source": [
    "male_users = len(male_users_df)\n",
    "female_users = len(female_users_df)\n",
    "\n",
    "print(\"Male Users:\",male_users,\"\\n\",\"Female Users: \",female_users)"
   ]
  },
  {
   "cell_type": "code",
   "execution_count": 228,
   "metadata": {},
   "outputs": [],
   "source": [
    "iterations = 1000\n",
    "male_sample = 3000\n",
    "female_sample = 1500\n",
    "\n",
    "male_sample_means = []\n",
    "female_sample_means = []\n",
    "\n",
    "for i in range(iterations):\n",
    "    male_sample_mean = male_users_df[\"Purchase\"].sample(male_sample,replace=True).mean()\n",
    "    female_sample_mean = female_users_df[\"Purchase\"].sample(female_sample,replace=True).mean()\n",
    "\n",
    "    male_sample_means.append(male_sample_mean)\n",
    "    female_sample_means.append(female_sample_mean)"
   ]
  },
  {
   "cell_type": "code",
   "execution_count": 229,
   "metadata": {},
   "outputs": [
    {
     "data": {
      "text/plain": [
       "<AxesSubplot:ylabel='Count'>"
      ]
     },
     "execution_count": 229,
     "metadata": {},
     "output_type": "execute_result"
    },
    {
     "data": {
      "image/png": "[encoded data removed]",
      "text/plain": [
       "<Figure size 432x288 with 1 Axes>"
      ]
     },
     "metadata": {
      "needs_background": "light"
     },
     "output_type": "display_data"
    }
   ],
   "source": [
    "sns.histplot(male_sample_means, bins=100,kde=True)\n"
   ]
  },
  {
   "cell_type": "code",
   "execution_count": 230,
   "metadata": {},
   "outputs": [
    {
     "data": {
      "text/plain": [
       "<AxesSubplot:ylabel='Count'>"
      ]
     },
     "execution_count": 230,
     "metadata": {},
     "output_type": "execute_result"
    },
    {
     "data": {
      "image/png": "[encoded data removed]",
      "text/plain": [
       "<Figure size 432x288 with 1 Axes>"
      ]
     },
     "metadata": {
      "needs_background": "light"
     },
     "output_type": "display_data"
    }
   ],
   "source": [
    "sns.histplot(female_sample_means, bins=100,kde=True)"
   ]
  },
  {
   "cell_type": "code",
   "execution_count": 231,
   "metadata": {},
   "outputs": [],
   "source": [
    "sample_standard_deviation_male = np.std(male_users_df[\"Purchase\"])\n",
    "sample_standard_deviation_female = female_users_df[\"Purchase\"].std()\n",
    "\n",
    "pop_mean_male_clt = np.mean(male_sample_means)\n",
    "pop_mean_female_clt = np.mean(female_sample_means)"
   ]
  },
  {
   "cell_type": "markdown",
   "metadata": {},
   "source": [
    "### Evaluating 95% Confidence Interval for Male and Female Customers"
   ]
  },
  {
   "cell_type": "code",
   "execution_count": 232,
   "metadata": {},
   "outputs": [
    {
     "name": "stdout",
     "output_type": "stream",
     "text": [
      "The Confidence Interval of male spending based on CLT is (890411.172575506,960956.4802578272)\n",
      "The Confidence Interval of female spending based on CLT is (670659.8451116384,752375.5357803615)\n",
      "The Confidence Interval of male spending based on Bootstrapping is (888768.7336333334,960368.48595)\n",
      "The Confidence Interval of female spending based on Bootstrapping is (671019.8585333333,752218.2645333334)\n"
     ]
    }
   ],
   "source": [
    "#Computing the 95% confidence interval using CLT\n",
    "\n",
    "z_lower = norm.ppf(0.025)\n",
    "z_upper = norm.ppf(0.975)\n",
    "\n",
    "ci_lower_male_clt = pop_mean_male_clt + (z_lower*sample_standard_deviation_male/np.sqrt(male_sample))\n",
    "ci_upper_male_clt = pop_mean_male_clt + (z_upper*sample_standard_deviation_male/np.sqrt(male_sample))\n",
    "\n",
    "print(f\"The Confidence Interval of male spending based on CLT is ({ci_lower_male_clt},{ci_upper_male_clt})\")\n",
    "\n",
    "ci_lower_female_clt = pop_mean_female_clt + (z_lower*sample_standard_deviation_female/np.sqrt(female_sample))\n",
    "ci_upper_female_clt = pop_mean_female_clt + (z_upper*sample_standard_deviation_female/np.sqrt(female_sample))\n",
    "\n",
    "print(f\"The Confidence Interval of female spending based on CLT is ({ci_lower_female_clt},{ci_upper_female_clt})\")\n",
    "\n",
    "#Computing the 95% confidence interval by getting the 2.5th percentile and 97.5 percentile values of the bootstrapped means\n",
    "\n",
    "ci_lower_male = np.percentile(male_sample_means,2.5)\n",
    "ci_upper_male = np.percentile(male_sample_means,97.5)\n",
    "\n",
    "print(f\"The Confidence Interval of male spending based on Bootstrapping is ({ci_lower_male},{ci_upper_male})\")\n",
    "\n",
    "\n",
    "#Computing the 95% confidence interval by getting the 2.5th percentile and 97.5 percentile values of the bootstrapped means\n",
    "\n",
    "ci_lower_female = np.percentile(female_sample_means,2.5)\n",
    "ci_upper_female = np.percentile(female_sample_means,97.5)\n",
    "\n",
    "print(f\"The Confidence Interval of female spending based on Bootstrapping is ({ci_lower_female},{ci_upper_female})\")\n"
   ]
  },
  {
   "cell_type": "markdown",
   "metadata": {},
   "source": [
    "### Evaluating 90% Confidence Interval for Male and Female Customers"
   ]
  },
  {
   "cell_type": "code",
   "execution_count": 233,
   "metadata": {},
   "outputs": [
    {
     "name": "stdout",
     "output_type": "stream",
     "text": [
      "The 90% Confidence Interval of male spending based on CLT is (896082.0821700997,955285.5706632335)\n",
      "The 90% Confidence Interval of female spending based on CLT is (677228.705741305,745806.6751506949)\n",
      "The 90% Confidence Interval of male spending based on Bootstrapping is (895618.4283,955826.1341666667)\n",
      "The 90% Confidence Interval of female spending based on Bootstrapping is (677185.2635666667,745132.1113666666)\n"
     ]
    }
   ],
   "source": [
    "#Computing the 90% confidence interval using CLT\n",
    "\n",
    "z_lower_5 = norm.ppf(0.05)\n",
    "z_upper_95 = norm.ppf(0.95)\n",
    "\n",
    "ci_lower_male_clt_90 = pop_mean_male_clt + (z_lower_5*sample_standard_deviation_male/np.sqrt(male_sample))\n",
    "ci_upper_male_clt_90 = pop_mean_male_clt + (z_upper_95*sample_standard_deviation_male/np.sqrt(male_sample))\n",
    "\n",
    "print(f\"The 90% Confidence Interval of male spending based on CLT is ({ci_lower_male_clt_90},{ci_upper_male_clt_90})\")\n",
    "\n",
    "ci_lower_female_clt_90 = pop_mean_female_clt + (z_lower_5*sample_standard_deviation_female/np.sqrt(female_sample))\n",
    "ci_upper_female_clt_90= pop_mean_female_clt + (z_upper_95*sample_standard_deviation_female/np.sqrt(female_sample))\n",
    "\n",
    "print(f\"The 90% Confidence Interval of female spending based on CLT is ({ci_lower_female_clt_90},{ci_upper_female_clt_90})\")\n",
    "\n",
    "#Computing the 90% confidence interval by getting the 2.5th percentile and 97.5 percentile values of the bootstrapped means\n",
    "\n",
    "ci_lower_male_5 = np.percentile(male_sample_means,5)\n",
    "ci_upper_male_95 = np.percentile(male_sample_means,95)\n",
    "\n",
    "print(f\"The 90% Confidence Interval of male spending based on Bootstrapping is ({ci_lower_male_5},{ci_upper_male_95})\")\n",
    "\n",
    "#Computing the 90% confidence interval by getting the 2.5th percentile and 97.5 percentile values of the bootstrapped means\n",
    "\n",
    "ci_lower_female_5 = np.percentile(female_sample_means,5)\n",
    "ci_upper_female_95 = np.percentile(female_sample_means,95)\n",
    "\n",
    "print(f\"The 90% Confidence Interval of female spending based on Bootstrapping is ({ci_lower_female_5},{ci_upper_female_95})\")\n",
    "\n"
   ]
  },
  {
   "cell_type": "markdown",
   "metadata": {},
   "source": [
    "### Evaluating 99% Confidence Interval for Male and Female Customers"
   ]
  },
  {
   "cell_type": "code",
   "execution_count": 234,
   "metadata": {},
   "outputs": [
    {
     "name": "stdout",
     "output_type": "stream",
     "text": [
      "The 99% Confidence Interval of male spending based on CLT is (879327.7014599524,972039.9513733808)\n",
      "The 99% Confidence Interval of female spending based on CLT is (657821.3796350568,765214.0012569431)\n",
      "The 99% Confidence Interval of male spending based on Bootstrapping is (875675.3366583333,974368.1893616667)\n",
      "The 99% Confidence Interval of female spending based on Bootstrapping is (660721.9367833334,773806.8655733333)\n"
     ]
    }
   ],
   "source": [
    "#Computing the 99% confidence interval using CLT\n",
    "\n",
    "z_lower_99 = norm.ppf(0.005)\n",
    "z_upper_99 = norm.ppf(0.995)\n",
    "\n",
    "ci_lower_male_clt_99 = pop_mean_male_clt + (z_lower_99*sample_standard_deviation_male/np.sqrt(male_sample))\n",
    "ci_upper_male_clt_99 = pop_mean_male_clt + (z_upper_99*sample_standard_deviation_male/np.sqrt(male_sample))\n",
    "\n",
    "print(f\"The 99% Confidence Interval of male spending based on CLT is ({ci_lower_male_clt_99},{ci_upper_male_clt_99})\")\n",
    "\n",
    "ci_lower_female_clt_99 = pop_mean_female_clt + (z_lower_99*sample_standard_deviation_female/np.sqrt(female_sample))\n",
    "ci_upper_female_clt_99= pop_mean_female_clt + (z_upper_99*sample_standard_deviation_female/np.sqrt(female_sample))\n",
    "\n",
    "print(f\"The 99% Confidence Interval of female spending based on CLT is ({ci_lower_female_clt_99},{ci_upper_female_clt_99})\")\n",
    "\n",
    "#Computing the 90% confidence interval by getting the 2.5th percentile and 97.5 percentile values of the bootstrapped means\n",
    "\n",
    "ci_lower_male_99 = np.percentile(male_sample_means,0.5)\n",
    "ci_upper_male_99 = np.percentile(male_sample_means,99.5)\n",
    "\n",
    "print(f\"The 99% Confidence Interval of male spending based on Bootstrapping is ({ci_lower_male_99},{ci_upper_male_99})\")\n",
    "\n",
    "#Computing the 90% confidence interval by getting the 2.5th percentile and 97.5 percentile values of the bootstrapped means\n",
    "\n",
    "ci_lower_female_99 = np.percentile(female_sample_means,0.5)\n",
    "ci_upper_female_99 = np.percentile(female_sample_means,99.5)\n",
    "\n",
    "print(f\"The 99% Confidence Interval of female spending based on Bootstrapping is ({ci_lower_female_99},{ci_upper_female_99})\")"
   ]
  },
  {
   "cell_type": "markdown",
   "metadata": {},
   "source": [
    "### Evaluating the same for Marital Status"
   ]
  },
  {
   "cell_type": "code",
   "execution_count": 239,
   "metadata": {},
   "outputs": [],
   "source": [
    "df_marital_status = df.groupby([\"User_ID\",\"Marital_Status\"])[\"Purchase\"].sum()\n",
    "df_marital_status = df_marital_status.reset_index()\n",
    "\n",
    "df_married = df_marital_status[df_marital_status[\"Marital_Status\"]==1]\n",
    "df_unmarried = df_marital_status[df_marital_status[\"Marital_Status\"]==0]"
   ]
  },
  {
   "cell_type": "code",
   "execution_count": 241,
   "metadata": {},
   "outputs": [
    {
     "name": "stdout",
     "output_type": "stream",
     "text": [
      "The sample average of married and unmarried are 843526.7966855295 and 880575.7819724905 respectively\n"
     ]
    }
   ],
   "source": [
    "#Computing the Sample Means for Married and Unmarried Customers\n",
    "\n",
    "married_sample_mean = df_married[\"Purchase\"].mean()\n",
    "unmarried_sample_mean = df_unmarried[\"Purchase\"].mean()\n",
    "\n",
    "print(f\"The sample average of married and unmarried are {married_sample_mean} and {unmarried_sample_mean} respectively\")"
   ]
  },
  {
   "cell_type": "code",
   "execution_count": 244,
   "metadata": {},
   "outputs": [
    {
     "name": "stdout",
     "output_type": "stream",
     "text": [
      "Married Users: 2474 \n",
      " Unmarried Users:  3417\n"
     ]
    }
   ],
   "source": [
    "married_users = len(df_married)\n",
    "unmarried_users = len(df_unmarried)\n",
    "\n",
    "print(\"Married Users:\",married_users,\"\\n\",\"Unmarried Users: \",unmarried_users)"
   ]
  },
  {
   "cell_type": "code",
   "execution_count": 245,
   "metadata": {},
   "outputs": [],
   "source": [
    "iterations = 1000\n",
    "married_sample = 2000\n",
    "unmarried_sample = 2500\n",
    "\n",
    "married_sample_means = []\n",
    "unmarried_sample_means = []\n",
    "\n",
    "for i in range(iterations):\n",
    "    married_sample_mean = df_married[\"Purchase\"].sample(married_sample,replace=True).mean()\n",
    "    unmarried_sample_mean = df_unmarried[\"Purchase\"].sample(unmarried_sample,replace=True).mean()\n",
    "\n",
    "    married_sample_means.append(married_sample_mean)\n",
    "    unmarried_sample_means.append(unmarried_sample_mean)"
   ]
  },
  {
   "cell_type": "code",
   "execution_count": 247,
   "metadata": {},
   "outputs": [
    {
     "data": {
      "text/plain": [
       "<AxesSubplot:ylabel='Count'>"
      ]
     },
     "execution_count": 247,
     "metadata": {},
     "output_type": "execute_result"
    },
    {
     "data": {
      "image/png": "[encoded data removed]",
      "text/plain": [
       "<Figure size 432x288 with 1 Axes>"
      ]
     },
     "metadata": {
      "needs_background": "light"
     },
     "output_type": "display_data"
    }
   ],
   "source": [
    "sns.histplot(married_sample_means, bins=100,kde=True)"
   ]
  },
  {
   "cell_type": "code",
   "execution_count": 246,
   "metadata": {},
   "outputs": [
    {
     "data": {
      "text/plain": [
       "<AxesSubplot:ylabel='Count'>"
      ]
     },
     "execution_count": 246,
     "metadata": {},
     "output_type": "execute_result"
    },
    {
     "data": {
      "image/png": "[encoded data removed]",
      "text/plain": [
       "<Figure size 432x288 with 1 Axes>"
      ]
     },
     "metadata": {
      "needs_background": "light"
     },
     "output_type": "display_data"
    }
   ],
   "source": [
    "sns.histplot(unmarried_sample_means, bins=100,kde=True)"
   ]
  },
  {
   "cell_type": "code",
   "execution_count": 250,
   "metadata": {},
   "outputs": [],
   "source": [
    "sample_standard_deviation_married = np.std(df_married[\"Purchase\"])\n",
    "sample_standard_deviation_unmarried = df_unmarried[\"Purchase\"].std()\n",
    "\n",
    "pop_mean_married_clt = np.mean(married_sample_means)\n",
    "pop_mean_unmarried_clt = np.mean(unmarried_sample_means)"
   ]
  },
  {
   "cell_type": "markdown",
   "metadata": {},
   "source": [
    "### Evaluating 95% Confidence INterval for Married and Unmarried Customers"
   ]
  },
  {
   "cell_type": "code",
   "execution_count": 254,
   "metadata": {},
   "outputs": [
    {
     "name": "stdout",
     "output_type": "stream",
     "text": [
      "The Confidence Interval of married customers spending based on CLT is (803115.9195078645,885085.0696561355)\n",
      "The Confidence Interval of unmarried customers spending based on CLT is (844127.3963758989,918561.8305657009)\n",
      "The Confidence Interval of married cusotomers spending based on Bootstrapping is (806146.6369125,883174.663175)\n",
      "The Confidence Interval of unmarried customers spending based on Bootstrapping is (842860.31496,919523.40192)\n"
     ]
    }
   ],
   "source": [
    "#Computing the 95% confidence interval using CLT\n",
    "\n",
    "z_lower = norm.ppf(0.025)\n",
    "z_upper = norm.ppf(0.975)\n",
    "\n",
    "ci_lower_married_clt = pop_mean_married_clt + (z_lower*sample_standard_deviation_married/np.sqrt(married_sample))\n",
    "ci_upper_married_clt = pop_mean_married_clt + (z_upper*sample_standard_deviation_married/np.sqrt(married_sample))\n",
    "\n",
    "print(f\"The Confidence Interval of married customers spending based on CLT is ({ci_lower_married_clt},{ci_upper_married_clt})\")\n",
    "\n",
    "ci_lower_unmarried_clt = pop_mean_unmarried_clt + (z_lower*sample_standard_deviation_unmarried/np.sqrt(unmarried_sample))\n",
    "ci_upper_unmarried_clt = pop_mean_unmarried_clt + (z_upper*sample_standard_deviation_unmarried/np.sqrt(unmarried_sample))\n",
    "\n",
    "print(f\"The Confidence Interval of unmarried customers spending based on CLT is ({ci_lower_unmarried_clt},{ci_upper_unmarried_clt})\")\n",
    "\n",
    "#Computing the 95% confidence interval by getting the 2.5th percentile and 97.5 percentile values of the bootstrapped means\n",
    "\n",
    "ci_lower_married = np.percentile(married_sample_means,2.5)\n",
    "ci_upper_married = np.percentile(married_sample_means,97.5)\n",
    "\n",
    "print(f\"The Confidence Interval of married cusotomers spending based on Bootstrapping is ({ci_lower_married},{ci_upper_married})\")\n",
    "\n",
    "\n",
    "#Computing the 95% confidence interval by getting the 2.5th percentile and 97.5 percentile values of the bootstrapped means\n",
    "\n",
    "ci_lower_unmarried = np.percentile(unmarried_sample_means,2.5)\n",
    "ci_upper_unmarried = np.percentile(unmarried_sample_means,97.5)\n",
    "\n",
    "print(f\"The Confidence Interval of unmarried customers spending based on Bootstrapping is ({ci_lower_unmarried},{ci_upper_unmarried})\")"
   ]
  },
  {
   "cell_type": "markdown",
   "metadata": {},
   "source": [
    "### Evaluating 90% Confidence INterval for Married and Unmarried Customers"
   ]
  },
  {
   "cell_type": "code",
   "execution_count": 253,
   "metadata": {},
   "outputs": [
    {
     "name": "stdout",
     "output_type": "stream",
     "text": [
      "The 90% Confidence Interval of married spending based on CLT is (809705.1549270336,878495.8342369666)\n",
      "The 90% Confidence Interval of unmarried spending based on CLT is (850110.9402979971,912578.2866436027)\n",
      "The 90% Confidence Interval of married spending based on Bootstrapping is (811768.95095,878752.0046)\n",
      "The 90% Confidence Interval of unmarried spending based on Bootstrapping is (847338.4311200001,913179.06432)\n"
     ]
    }
   ],
   "source": [
    "#Computing the 90% confidence interval using CLT\n",
    "\n",
    "z_lower_5 = norm.ppf(0.05)\n",
    "z_upper_95 = norm.ppf(0.95)\n",
    "\n",
    "ci_lower_married_clt_90 = pop_mean_married_clt + (z_lower_5*sample_standard_deviation_married/np.sqrt(married_sample))\n",
    "ci_upper_married_clt_90 = pop_mean_married_clt + (z_upper_95*sample_standard_deviation_married/np.sqrt(married_sample))\n",
    "\n",
    "print(f\"The 90% Confidence Interval of married spending based on CLT is ({ci_lower_married_clt_90},{ci_upper_married_clt_90})\")\n",
    "\n",
    "ci_lower_unmarried_clt_90 = pop_mean_unmarried_clt + (z_lower_5*sample_standard_deviation_unmarried/np.sqrt(unmarried_sample))\n",
    "ci_upper_unmarried_clt_90= pop_mean_unmarried_clt + (z_upper_95*sample_standard_deviation_unmarried/np.sqrt(unmarried_sample))\n",
    "\n",
    "print(f\"The 90% Confidence Interval of unmarried spending based on CLT is ({ci_lower_unmarried_clt_90},{ci_upper_unmarried_clt_90})\")\n",
    "\n",
    "#Computing the 90% confidence interval by getting the 5th percentile and 95th percentile values of the bootstrapped means\n",
    "\n",
    "ci_lower_married_5 = np.percentile(married_sample_means,5)\n",
    "ci_upper_married_95 = np.percentile(married_sample_means,95)\n",
    "\n",
    "print(f\"The 90% Confidence Interval of married spending based on Bootstrapping is ({ci_lower_married_5},{ci_upper_married_95})\")\n",
    "\n",
    "#Computing the 90% confidence interval by getting the 5th percentile and 95th percentile values of the bootstrapped means\n",
    "\n",
    "ci_lower_unmarried_5 = np.percentile(unmarried_sample_means,5)\n",
    "ci_upper_unmarried_95 = np.percentile(unmarried_sample_means,95)\n",
    "\n",
    "print(f\"The 90% Confidence Interval of unmarried spending based on Bootstrapping is ({ci_lower_unmarried_5},{ci_upper_unmarried_95})\")"
   ]
  },
  {
   "cell_type": "markdown",
   "metadata": {},
   "source": [
    "###  Evaluating 99% Confidence Interval for Married and Unmarried Customers"
   ]
  },
  {
   "cell_type": "code",
   "execution_count": 255,
   "metadata": {},
   "outputs": [
    {
     "name": "stdout",
     "output_type": "stream",
     "text": [
      "The 99% Confidence Interval of male spending based on CLT is (790237.6326609775,897963.3565030226)\n",
      "The 99% Confidence Interval of female spending based on CLT is (832432.8992016809,930256.3277399188)\n",
      "The 99% Confidence Interval of male spending based on Bootstrapping is (792257.5813775001,895549.09817)\n",
      "The 99% Confidence Interval of female spending based on Bootstrapping is (831143.2486180001,933096.4203499999)\n"
     ]
    }
   ],
   "source": [
    "#Computing the 99% confidence interval using CLT\n",
    "\n",
    "z_lower_99 = norm.ppf(0.005)\n",
    "z_upper_99 = norm.ppf(0.995)\n",
    "\n",
    "ci_lower_married_clt_99 = pop_mean_married_clt + (z_lower_99*sample_standard_deviation_married/np.sqrt(married_sample))\n",
    "ci_upper_married_clt_99 = pop_mean_married_clt + (z_upper_99*sample_standard_deviation_married/np.sqrt(married_sample))\n",
    "\n",
    "print(f\"The 99% Confidence Interval of male spending based on CLT is ({ci_lower_married_clt_99},{ci_upper_married_clt_99})\")\n",
    "\n",
    "ci_lower_unmarried_clt_99 = pop_mean_unmarried_clt + (z_lower_99*sample_standard_deviation_unmarried/np.sqrt(unmarried_sample))\n",
    "ci_upper_unmarried_clt_99= pop_mean_unmarried_clt + (z_upper_99*sample_standard_deviation_unmarried/np.sqrt(unmarried_sample))\n",
    "\n",
    "print(f\"The 99% Confidence Interval of female spending based on CLT is ({ci_lower_unmarried_clt_99},{ci_upper_unmarried_clt_99})\")\n",
    "\n",
    "#Computing the 90% confidence interval by getting the 2.5th percentile and 97.5 percentile values of the bootstrapped means\n",
    "\n",
    "ci_lower_married_99 = np.percentile(married_sample_means,0.5)\n",
    "ci_upper_married_99 = np.percentile(married_sample_means,99.5)\n",
    "\n",
    "print(f\"The 99% Confidence Interval of male spending based on Bootstrapping is ({ci_lower_married_99},{ci_upper_married_99})\")\n",
    "\n",
    "#Computing the 90% confidence interval by getting the 2.5th percentile and 97.5 percentile values of the bootstrapped means\n",
    "\n",
    "ci_lower_unmarried_99 = np.percentile(unmarried_sample_means,0.5)\n",
    "ci_upper_unmarried_99 = np.percentile(unmarried_sample_means,99.5)\n",
    "\n",
    "print(f\"The 99% Confidence Interval of female spending based on Bootstrapping is ({ci_lower_unmarried_99},{ci_upper_unmarried_99})\")"
   ]
  },
  {
   "cell_type": "markdown",
   "metadata": {},
   "source": [
    "#### We can see that the 95%,90% and 99% Confidence INtervals of Means based on Marital Status is not statistically significant as the confidence intervals for Married and Unmarried Customers Overlap"
   ]
  },
  {
   "cell_type": "markdown",
   "metadata": {},
   "source": [
    "## Insights and Recommendations\n",
    "\n",
    "- More purchases are made by Males compared to females\n",
    "- Most purchases are made by customers in the age bracket 18 - 45 years of which 26-35 year old top the list\n",
    "- Occupation Category 0, 4 and 7 tend to make the most purchases from the sample shared. Since we don't have a visibility on the type of products and the correlation between occupation and the type of products purchased, further investigation can help identify if there is a trend followed.\n",
    "- Most of the purchases are made from City B\n",
    "- Most of the purchases are made by single / unmarried customers\n",
    "- Product from Category 1,5,8 and 11 are the most ordered.\n",
    "- Most of the orders are made by customers who have been staying in the current city for a year or less. This can help cater to the customers who move frequently.\n",
    "- From the analsysis 90%, 95% and 99% CI based on Gender, we can say that the average spending of males are more than females and the Confidence Intervals for male and female do not overlap hence the difference is statistically significant. Thus we can conclude that the spending behavious of Male is more than that of females."
   ]
  }
 ],
 "metadata": {
  "interpreter": {
   "hash": "0d03f0cb4e3384053fbaf6535be6963dfe5ef4bac7b099bd115c93699579f480"
  },
  "kernelspec": {
   "display_name": "Python 3.8.8 ('base')",
   "language": "python",
   "name": "python3"
  },
  "language_info": {
   "codemirror_mode": {
    "name": "ipython",
    "version": 3
   },
   "file_extension": ".py",
   "mimetype": "text/x-python",
   "name": "python",
   "nbconvert_exporter": "python",
   "pygments_lexer": "ipython3",
   "version": "3.8.8"
  },
  "orig_nbformat": 4
 },
 "nbformat": 4,
 "nbformat_minor": 2
}
